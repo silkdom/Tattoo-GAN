{
 "cells": [
  {
   "cell_type": "code",
   "execution_count": null,
   "metadata": {},
   "outputs": [],
   "source": [
    "pip install instaloader"
   ]
  },
  {
   "cell_type": "code",
   "execution_count": null,
   "metadata": {},
   "outputs": [],
   "source": [
    "import instaloader\n",
    "import pandas as pd\n",
    "import PIL\n",
    "from PIL import Image\n",
    "import glob"
   ]
  },
  {
   "cell_type": "code",
   "execution_count": null,
   "metadata": {},
   "outputs": [],
   "source": [
    "# Step 1: Collect 1 month of posts containing #tattooflash"
   ]
  },
  {
   "cell_type": "code",
   "execution_count": null,
   "metadata": {},
   "outputs": [],
   "source": [
    "L = instaloader.Instaloader(save_metadata=False,download_comments=False,download_geotags=False,download_videos=False, filename_pattern=\"{date_utc}_UTC_likes_{likes}_profile_{profile}\", post_metadata_txt_pattern=\"\")"
   ]
  },
  {
   "cell_type": "code",
   "execution_count": null,
   "metadata": {
    "scrolled": true
   },
   "outputs": [],
   "source": [
    "L.download_hashtag('tattooflashsheets')"
   ]
  },
  {
   "cell_type": "code",
   "execution_count": null,
   "metadata": {},
   "outputs": [],
   "source": [
    "# Step 2: Filter for 'flash' drawings/illustrations"
   ]
  },
  {
   "cell_type": "code",
   "execution_count": null,
   "metadata": {},
   "outputs": [],
   "source": [
    "path = \"#tattooflashsheets/*.jpg\"\n",
    "names = []\n",
    "for fname in glob.glob(path):\n",
    "    if 'profile_pic' in fname:\n",
    "        continue\n",
    "    names.append(fname)"
   ]
  },
  {
   "cell_type": "code",
   "execution_count": null,
   "metadata": {},
   "outputs": [],
   "source": [
    "# Sorting to get highest likes first (more likely to be an artist)"
   ]
  },
  {
   "cell_type": "code",
   "execution_count": null,
   "metadata": {},
   "outputs": [],
   "source": [
    "q = []\n",
    "p = []\n",
    "\n",
    "i = 'UTC_likes_'\n",
    "j = '_profile_'\n",
    "\n",
    "for name in names:\n",
    "    k = name[name.index(i)+len(i):]\n",
    "    \n",
    "    \n",
    "    q.append(int(k[:k.index(j)]))\n",
    "    p.append(k[k.index(j)+len(j):-4])"
   ]
  },
  {
   "cell_type": "code",
   "execution_count": null,
   "metadata": {},
   "outputs": [],
   "source": [
    "df1 = pd.DataFrame(names)\n",
    "df1['profile']=p\n",
    "df1['likes']=q\n",
    "df1"
   ]
  },
  {
   "cell_type": "code",
   "execution_count": null,
   "metadata": {},
   "outputs": [],
   "source": [
    "names2 = list(df1.sort_values(['likes'],ascending=0)[0])"
   ]
  },
  {
   "cell_type": "code",
   "execution_count": null,
   "metadata": {},
   "outputs": [],
   "source": [
    "# Optional filter by size (i.e. square only)"
   ]
  },
  {
   "cell_type": "code",
   "execution_count": null,
   "metadata": {},
   "outputs": [],
   "source": [
    "# Assesses what proportion of the image is white pixels"
   ]
  },
  {
   "cell_type": "code",
   "execution_count": null,
   "metadata": {},
   "outputs": [],
   "source": [
    "def white(img):\n",
    "  im = Image.open(img)\n",
    "  pixels = im.getdata()          \n",
    "  white_thresh = 254\n",
    "  nwhite = 0\n",
    "  for pixel in pixels:\n",
    "  \n",
    "    if pixel[0] > white_thresh:\n",
    "         nwhite += 1\n",
    "  n = len(pixels)\n",
    "  return(nwhite / float(n))"
   ]
  },
  {
   "cell_type": "code",
   "execution_count": null,
   "metadata": {},
   "outputs": [],
   "source": [
    "white_percent = []\n",
    "for name in range(len(names2)):\n",
    "    white_percent.append(white(names2[name]))"
   ]
  },
  {
   "cell_type": "code",
   "execution_count": null,
   "metadata": {},
   "outputs": [],
   "source": [
    "# careful -- deleted quickfix"
   ]
  },
  {
   "cell_type": "code",
   "execution_count": null,
   "metadata": {},
   "outputs": [],
   "source": [
    "df2 = pd.DataFrame()\n",
    "df2['names'] = names2\n",
    "df2['percent_white'] = white_percent"
   ]
  },
  {
   "cell_type": "code",
   "execution_count": null,
   "metadata": {},
   "outputs": [],
   "source": [
    "df_white = df2.loc[df2['percent_white'] > 0.75]"
   ]
  },
  {
   "cell_type": "code",
   "execution_count": null,
   "metadata": {},
   "outputs": [],
   "source": [
    "accts = list(df_white['names'])"
   ]
  },
  {
   "cell_type": "code",
   "execution_count": null,
   "metadata": {},
   "outputs": [],
   "source": [
    "accts_df = pd.DataFrame(accts)"
   ]
  },
  {
   "cell_type": "code",
   "execution_count": null,
   "metadata": {},
   "outputs": [],
   "source": [
    "accts_df.to_csv('accts.csv')"
   ]
  },
  {
   "cell_type": "code",
   "execution_count": null,
   "metadata": {},
   "outputs": [],
   "source": [
    "# Stripping the scraped info to get the list of profiles that contain images with satisfactory conditions"
   ]
  },
  {
   "cell_type": "code",
   "execution_count": null,
   "metadata": {},
   "outputs": [],
   "source": [
    "m = []\n",
    "\n",
    "i = 'UTC_likes_'\n",
    "j = '_profile_'\n",
    "\n",
    "for acct in accts:\n",
    "    k = acct[acct.index(i)+len(i):]\n",
    "    \n",
    "    m.append(k[k.index(j)+len(j):-4])"
   ]
  },
  {
   "cell_type": "code",
   "execution_count": null,
   "metadata": {},
   "outputs": [],
   "source": [
    "n = [0]*len(m)\n",
    "for i in range(len(m)):\n",
    "    n[i]=m[i]\n",
    "    for j in range(1,11):\n",
    "        if '_'+str(j) in m[i][-3:]:\n",
    "            if j == 10:\n",
    "                n[i]=m[i][:-3]\n",
    "            else:\n",
    "                n[i]=m[i][:-2]"
   ]
  },
  {
   "cell_type": "code",
   "execution_count": null,
   "metadata": {},
   "outputs": [],
   "source": [
    "profiles = [] \n",
    "for i in n: \n",
    "    if i not in profiles: \n",
    "        profiles.append(i) "
   ]
  },
  {
   "cell_type": "code",
   "execution_count": null,
   "metadata": {},
   "outputs": [],
   "source": [
    "profiles_df = pd.DataFrame(profiles)\n",
    "profiles_df"
   ]
  },
  {
   "cell_type": "code",
   "execution_count": null,
   "metadata": {},
   "outputs": [],
   "source": [
    "# exporting profile list to csv (to be used in next step)"
   ]
  },
  {
   "cell_type": "code",
   "execution_count": null,
   "metadata": {},
   "outputs": [],
   "source": [
    "profiles_df.to_csv('profiles.csv')"
   ]
  }
 ],
 "metadata": {
  "kernelspec": {
   "display_name": "Python 3",
   "language": "python",
   "name": "python3"
  },
  "language_info": {
   "codemirror_mode": {
    "name": "ipython",
    "version": 3
   },
   "file_extension": ".py",
   "mimetype": "text/x-python",
   "name": "python",
   "nbconvert_exporter": "python",
   "pygments_lexer": "ipython3",
   "version": "3.7.6"
  }
 },
 "nbformat": 4,
 "nbformat_minor": 2
}
