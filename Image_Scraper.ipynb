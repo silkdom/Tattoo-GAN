{
 "cells": [
  {
   "cell_type": "code",
   "execution_count": null,
   "metadata": {},
   "outputs": [],
   "source": [
    "pip install instaloader"
   ]
  },
  {
   "cell_type": "code",
   "execution_count": null,
   "metadata": {},
   "outputs": [],
   "source": [
    "import instaloader\n",
    "import pandas as pd\n",
    "import os\n",
    "import shutil\n",
    "import glob\n",
    "import PIL\n",
    "from PIL import Image"
   ]
  },
  {
   "cell_type": "code",
   "execution_count": null,
   "metadata": {},
   "outputs": [],
   "source": [
    "# download good accts"
   ]
  },
  {
   "cell_type": "code",
   "execution_count": null,
   "metadata": {},
   "outputs": [],
   "source": [
    "df_a = pd.read_csv('a.csv')\n",
    "profiles = list(df_a['0'])"
   ]
  },
  {
   "cell_type": "code",
   "execution_count": null,
   "metadata": {},
   "outputs": [],
   "source": [
    "# Function to Assess what proportion of the image are white pixels"
   ]
  },
  {
   "cell_type": "code",
   "execution_count": null,
   "metadata": {},
   "outputs": [],
   "source": [
    "def white(img):\n",
    "  im = Image.open(img)\n",
    "  pixels = im.getdata()\n",
    "  black_thresh = 254\n",
    "  nblack = 0\n",
    "  for pixel in pixels:\n",
    "  \n",
    "    if pixel[0] > black_thresh:\n",
    "         nblack += 1\n",
    "  n = len(pixels)\n",
    "  return(nblack / float(n))"
   ]
  },
  {
   "cell_type": "code",
   "execution_count": null,
   "metadata": {},
   "outputs": [],
   "source": [
    "# Running three notebooks at once! agg_a agg_b agg_c..."
   ]
  },
  {
   "cell_type": "code",
   "execution_count": null,
   "metadata": {},
   "outputs": [],
   "source": [
    "# Function to filter all the images of a profile. Flash -> agg, not flash -> deleted"
   ]
  },
  {
   "cell_type": "code",
   "execution_count": null,
   "metadata": {},
   "outputs": [],
   "source": [
    "def move():\n",
    "    path = \"profiles_a/*.jpg\"\n",
    "    names3 = []\n",
    "    for fname in glob.glob(path):\n",
    "        if 'profile_pic' in fname:\n",
    "            continue\n",
    "        names3.append(fname)\n",
    "    \n",
    "    white_percent2 = []\n",
    "    for name in range(len(names3)):\n",
    "        white_percent2.append(white(names3[name]))\n",
    "    \n",
    "    df4 = pd.DataFrame()\n",
    "    df4['names'] = names3\n",
    "    df4['percent_white'] = white_percent2\n",
    "    df_white2 = df4.loc[df4['percent_white'] > 0.75]\n",
    "    \n",
    "    count = len(df_white2)\n",
    "    \n",
    "    accts2 = list(df_white2['names'])\n",
    "    \n",
    "    for i in accts2:\n",
    "        if i in names3:\n",
    "            shutil.copy(i, 'agg_a')\n",
    "    \n",
    "    \n",
    "    for f in glob.glob(path):\n",
    "        os.remove(f)\n",
    "    \n",
    "    return(count)"
   ]
  },
  {
   "cell_type": "code",
   "execution_count": null,
   "metadata": {},
   "outputs": [],
   "source": [
    "# heavy lifting; switches between downloading all images from a profile and filtering it with the above functions"
   ]
  },
  {
   "cell_type": "code",
   "execution_count": null,
   "metadata": {},
   "outputs": [],
   "source": [
    "cnt = 0\n",
    "L = instaloader.Instaloader(save_metadata=False,download_comments=False,download_geotags=False,download_videos=False, filename_pattern=\"{date_utc}_UTC_likes_{likes}_profile_{profile}\", post_metadata_txt_pattern=\"\")\n",
    "prof = 0\n",
    "err = 0\n",
    "\n",
    "for i in profiles:\n",
    "    PROFILE = i\n",
    "\n",
    "    posts = instaloader.Profile.from_username(L.context, PROFILE).get_posts()\n",
    "    #posts = instaloader.Hashtag.from_name(L.context, PROFILE).get_posts()\n",
    "    #filtered_posts = filter(lambda p: SINCE <= p.date <= UNTIL, posts)\n",
    "    for post in posts:\n",
    "        #print(post.date)\n",
    "        try:\n",
    "            L.download_post(post, 'profiles_a')\n",
    "        except:\n",
    "            err += 1 # doing nothing on exception      \n",
    "        \n",
    "    cnt += move()\n",
    "    prof += 1\n",
    "    print('Total images: %f, profiles %f of %f ######################################################################################################################################################################'\n",
    "          % (cnt, prof, len(profiles)))"
   ]
  },
  {
   "cell_type": "code",
   "execution_count": null,
   "metadata": {},
   "outputs": [],
   "source": [
    "# In case an occasional error occurs "
   ]
  },
  {
   "cell_type": "code",
   "execution_count": null,
   "metadata": {},
   "outputs": [],
   "source": [
    "# start the function where you left off with below code (below example assumes that the code broke on the 7th profile)"
   ]
  },
  {
   "cell_type": "code",
   "execution_count": null,
   "metadata": {},
   "outputs": [],
   "source": [
    "# THIS FIRST\n",
    "profiles[6]"
   ]
  },
  {
   "cell_type": "code",
   "execution_count": null,
   "metadata": {},
   "outputs": [],
   "source": [
    "profiles = profiles[6:]"
   ]
  },
  {
   "cell_type": "code",
   "execution_count": null,
   "metadata": {},
   "outputs": [],
   "source": [
    "profiles"
   ]
  },
  {
   "cell_type": "code",
   "execution_count": null,
   "metadata": {},
   "outputs": [],
   "source": []
  },
  {
   "cell_type": "code",
   "execution_count": null,
   "metadata": {},
   "outputs": [],
   "source": []
  },
  {
   "cell_type": "code",
   "execution_count": null,
   "metadata": {},
   "outputs": [],
   "source": []
  }
 ],
 "metadata": {
  "kernelspec": {
   "display_name": "Python 3",
   "language": "python",
   "name": "python3"
  },
  "language_info": {
   "codemirror_mode": {
    "name": "ipython",
    "version": 3
   },
   "file_extension": ".py",
   "mimetype": "text/x-python",
   "name": "python",
   "nbconvert_exporter": "python",
   "pygments_lexer": "ipython3",
   "version": "3.7.6"
  }
 },
 "nbformat": 4,
 "nbformat_minor": 4
}
